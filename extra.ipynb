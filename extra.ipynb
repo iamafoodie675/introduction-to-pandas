{
 "cells": [
  {
   "cell_type": "code",
   "execution_count": 6,
   "metadata": {},
   "outputs": [],
   "source": [
    "import pandas as pd"
   ]
  },
  {
   "cell_type": "code",
   "execution_count": 7,
   "metadata": {},
   "outputs": [],
   "source": [
    "dataset = {\n",
    "    \"Cars\": [\"Ferrari\",\"Toyota\",\"Lamborgini\"],\n",
    "    \"TopSpeed\": [\"350 MPH\",\"250 MPH\",\"300 MPH\"],\n",
    "    \"Price\": [\"10 koti\",\"30 Lakh\",\"7 Koti\"]\n",
    "    \n",
    "}"
   ]
  },
  {
   "cell_type": "code",
   "execution_count": 8,
   "metadata": {},
   "outputs": [
    {
     "data": {
      "text/html": [
       "<div>\n",
       "<style scoped>\n",
       "    .dataframe tbody tr th:only-of-type {\n",
       "        vertical-align: middle;\n",
       "    }\n",
       "\n",
       "    .dataframe tbody tr th {\n",
       "        vertical-align: top;\n",
       "    }\n",
       "\n",
       "    .dataframe thead th {\n",
       "        text-align: right;\n",
       "    }\n",
       "</style>\n",
       "<table border=\"1\" class=\"dataframe\">\n",
       "  <thead>\n",
       "    <tr style=\"text-align: right;\">\n",
       "      <th></th>\n",
       "      <th>Cars</th>\n",
       "      <th>TopSpeed</th>\n",
       "      <th>Price</th>\n",
       "    </tr>\n",
       "  </thead>\n",
       "  <tbody>\n",
       "    <tr>\n",
       "      <th>Royal Car</th>\n",
       "      <td>Ferrari</td>\n",
       "      <td>350 MPH</td>\n",
       "      <td>10 koti</td>\n",
       "    </tr>\n",
       "    <tr>\n",
       "      <th>Family Car</th>\n",
       "      <td>Toyota</td>\n",
       "      <td>250 MPH</td>\n",
       "      <td>30 Lakh</td>\n",
       "    </tr>\n",
       "    <tr>\n",
       "      <th>Sports Car</th>\n",
       "      <td>Lamborgini</td>\n",
       "      <td>300 MPH</td>\n",
       "      <td>7 Koti</td>\n",
       "    </tr>\n",
       "  </tbody>\n",
       "</table>\n",
       "</div>"
      ],
      "text/plain": [
       "                  Cars TopSpeed    Price\n",
       "Royal Car      Ferrari  350 MPH  10 koti\n",
       "Family Car      Toyota  250 MPH  30 Lakh\n",
       "Sports Car  Lamborgini  300 MPH   7 Koti"
      ]
     },
     "execution_count": 8,
     "metadata": {},
     "output_type": "execute_result"
    }
   ],
   "source": [
    "df = pd.DataFrame(dataset, index = [\"Royal Car\",\"Family Car\",\"Sports Car\"])\n",
    "df"
   ]
  },
  {
   "cell_type": "code",
   "execution_count": 9,
   "metadata": {},
   "outputs": [
    {
     "data": {
      "text/plain": [
       "Cars         Toyota\n",
       "TopSpeed    250 MPH\n",
       "Price       30 Lakh\n",
       "Name: Family Car, dtype: object"
      ]
     },
     "execution_count": 9,
     "metadata": {},
     "output_type": "execute_result"
    }
   ],
   "source": [
    "df.loc[\"Family Car\"]"
   ]
  }
 ],
 "metadata": {
  "kernelspec": {
   "display_name": "Python 3",
   "language": "python",
   "name": "python3"
  },
  "language_info": {
   "codemirror_mode": {
    "name": "ipython",
    "version": 3
   },
   "file_extension": ".py",
   "mimetype": "text/x-python",
   "name": "python",
   "nbconvert_exporter": "python",
   "pygments_lexer": "ipython3",
   "version": "3.12.5"
  }
 },
 "nbformat": 4,
 "nbformat_minor": 2
}
